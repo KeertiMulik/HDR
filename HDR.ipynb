{
 "cells": [
  {
   "cell_type": "code",
   "execution_count": 5,
   "id": "afbc4d9b-1431-46fd-a136-cc4f171c0758",
   "metadata": {},
   "outputs": [],
   "source": [
    "from\ttensorflow.keras.datasets\timport\tmnist\n",
    " #\tLoad\tMNIST\tdataset\n",
    "(x_train,y_train),\t(x_test,y_test)\t= mnist.load_data()"
   ]
  },
  {
   "cell_type": "code",
   "execution_count": 7,
   "id": "0f4d6767-1317-448c-adaa-fc1a20cd4637",
   "metadata": {},
   "outputs": [
    {
     "data": {
      "text/plain": [
       "<module 'keras.api.datasets.mnist' from 'C:\\\\Users\\\\Admin\\\\AppData\\\\Roaming\\\\Python\\\\Python312\\\\site-packages\\\\keras\\\\api\\\\datasets\\\\mnist\\\\__init__.py'>"
      ]
     },
     "execution_count": 7,
     "metadata": {},
     "output_type": "execute_result"
    }
   ],
   "source": [
    "mnist"
   ]
  },
  {
   "cell_type": "code",
   "execution_count": 11,
   "id": "418dc6d5-8428-4db9-b04e-57ddb73cb290",
   "metadata": {},
   "outputs": [],
   "source": [
    "image_index\t=\t9\t#\tYou\tcan\tchange\tthis\tindex\tto\tany\tnumber\tfrom\t0\tto\tlen(x_test)-1\n",
    "selected_image\t=\tx_test[image_index]\t\t#\tThis\tgives\tyou\tthe\t28x28\timage\n",
    "true_label\t=\ty_test[image_index]\t\t#\tThis\tgives\tyou\tthe\ttrue\tlabel\tfor\tthe\tselected\timage"
   ]
  },
  {
   "cell_type": "code",
   "execution_count": 15,
   "id": "2f7ef936-20c3-4e13-bbdf-3b22cab15e9f",
   "metadata": {},
   "outputs": [
    {
     "name": "stderr",
     "output_type": "stream",
     "text": [
      "C:\\ProgramData\\anaconda3\\Lib\\site-packages\\IPython\\core\\pylabtools.py:170: UserWarning: Glyph 9 (\t) missing from font(s) DejaVu Sans.\n",
      "  fig.canvas.print_figure(bytes_io, **kw)\n"
     ]
    },
    {
     "data": {
      "image/png": "[encoded data removed]",
      "text/plain": [
       "<Figure size 640x480 with 1 Axes>"
      ]
     },
     "metadata": {},
     "output_type": "display_data"
    }
   ],
   "source": [
    "import\tmatplotlib.pyplot\tas\tplt\n",
    " #\tDisplay\tthe\tselected\timage\n",
    "plt.imshow(selected_image,\tcmap='gray')\t\t#\tDisplay\timage\tin\tgrayscale\n",
    "plt.title(f\"True\tLabel:\t{true_label}\")\t\t#\tAdd\tthe\ttrue\tlabel\tas\tthe\ttitle\n",
    "plt.axis('off')\t\t#\tHide\taxes\n",
    "plt.show()"
   ]
  },
  {
   "cell_type": "code",
   "execution_count": 19,
   "id": "0a5bf4a5-b427-4542-a866-2fc898f7d83d",
   "metadata": {},
   "outputs": [
    {
     "name": "stdout",
     "output_type": "stream",
     "text": [
      "Image\tsaved\tat:\tselected_image.png\n"
     ]
    }
   ],
   "source": [
    "from\tPIL\timport\tImage\n",
    " #\tSave\tthe\tselected\timage\tas\ta\tPNG\tfile\n",
    "image_path\t=\t'selected_image.png'\n",
    "image\t=\tImage.fromarray(selected_image)\t\t#\tConvert\tthe\tNumPy\tarray\tto\ta\tPIL\tImage\n",
    "image.save(image_path)\t\t#\tSave\tthe\timage\tas\ta\tPNG\tfile\n",
    "print(f\"Image\tsaved\tat:\t{image_path}\")"
   ]
  },
  {
   "cell_type": "code",
   "execution_count": 21,
   "id": "61402640-c7c0-422e-9065-e435cb673e9e",
   "metadata": {},
   "outputs": [
    {
     "data": {
      "image/png": "[encoded data removed]",
      "text/plain": [
       "<Figure size 640x480 with 1 Axes>"
      ]
     },
     "metadata": {},
     "output_type": "display_data"
    }
   ],
   "source": [
    "#\tReload\tand\tdisplay\tthe\tsaved\timage\n",
    "saved_image\t=\tImage.open('selected_image.png')\n",
    "plt.imshow(saved_image,\tcmap='gray')\n",
    "plt.title(f\"True\tLabel:\t{true_label}\")\n",
    "plt.axis('off')\n",
    "plt.show()\n"
   ]
  },
  {
   "cell_type": "code",
   "execution_count": 23,
   "id": "47397b4e-2384-42e9-a100-d8ba8bfcf8f0",
   "metadata": {},
   "outputs": [
    {
     "name": "stderr",
     "output_type": "stream",
     "text": [
      "C:\\Users\\Admin\\AppData\\Roaming\\Python\\Python312\\site-packages\\keras\\src\\layers\\convolutional\\base_conv.py:107: UserWarning: Do not pass an `input_shape`/`input_dim` argument to a layer. When using Sequential models, prefer using an `Input(shape)` object as the first layer in the model instead.\n",
      "  super().__init__(activity_regularizer=activity_regularizer, **kwargs)\n"
     ]
    },
    {
     "name": "stdout",
     "output_type": "stream",
     "text": [
      "Epoch 1/5\n",
      "\u001b[1m938/938\u001b[0m \u001b[32m━━━━━━━━━━━━━━━━━━━━\u001b[0m\u001b[37m\u001b[0m \u001b[1m17s\u001b[0m 15ms/step - accuracy: 0.8896 - loss: 0.3770 - val_accuracy: 0.9823 - val_loss: 0.0541\n",
      "Epoch 2/5\n",
      "\u001b[1m938/938\u001b[0m \u001b[32m━━━━━━━━━━━━━━━━━━━━\u001b[0m\u001b[37m\u001b[0m \u001b[1m14s\u001b[0m 15ms/step - accuracy: 0.9828 - loss: 0.0563 - val_accuracy: 0.9875 - val_loss: 0.0352\n",
      "Epoch 3/5\n",
      "\u001b[1m938/938\u001b[0m \u001b[32m━━━━━━━━━━━━━━━━━━━━\u001b[0m\u001b[37m\u001b[0m \u001b[1m14s\u001b[0m 15ms/step - accuracy: 0.9883 - loss: 0.0391 - val_accuracy: 0.9905 - val_loss: 0.0294\n",
      "Epoch 4/5\n",
      "\u001b[1m938/938\u001b[0m \u001b[32m━━━━━━━━━━━━━━━━━━━━\u001b[0m\u001b[37m\u001b[0m \u001b[1m13s\u001b[0m 14ms/step - accuracy: 0.9916 - loss: 0.0285 - val_accuracy: 0.9894 - val_loss: 0.0313\n",
      "Epoch 5/5\n",
      "\u001b[1m938/938\u001b[0m \u001b[32m━━━━━━━━━━━━━━━━━━━━\u001b[0m\u001b[37m\u001b[0m \u001b[1m13s\u001b[0m 14ms/step - accuracy: 0.9933 - loss: 0.0199 - val_accuracy: 0.9906 - val_loss: 0.0267\n"
     ]
    },
    {
     "name": "stderr",
     "output_type": "stream",
     "text": [
      "WARNING:absl:You are saving your model as an HDF5 file via `model.save()` or `keras.saving.save_model(model)`. This file format is considered legacy. We recommend using instead the native Keras format, e.g. `model.save('my_model.keras')` or `keras.saving.save_model(model, 'my_model.keras')`. \n"
     ]
    }
   ],
   "source": [
    "from\ttensorflow.keras.models\timport\tSequential\n",
    "from\ttensorflow.keras.layers\timport\tConv2D,\tMaxPooling2D,\tFlatten,\tDense\n",
    "from\ttensorflow.keras.datasets\timport\tmnist\n",
    "from\ttensorflow.keras.utils\timport\tto_categorical\n",
    " #\tStep\t1:\tLoad\tthe\tMNIST\tdataset\n",
    "(x_train,\ty_train),\t(x_test,\ty_test)\t=\tmnist.load_data()\n",
    " #\tStep\t2:\tPreprocess\tthe\tdata\n",
    "x_train\t=\tx_train.reshape(x_train.shape[0],\t28,\t28,\t1)\t\t#\tReshape\tto\t(28,\t28,\t1)\n",
    "x_test\t=\tx_test.reshape(x_test.shape[0],\t28,\t28,\t1)\t\t#\tReshape\tto\t(28,\t28,\t1)\n",
    "x_train\t=\tx_train.astype('float32')\t\t#\tConvert\tto\tfloat32\n",
    "x_test\t=\tx_test.astype('float32')\n",
    " #\tNormalize\tthe\tdata\t(scale\tto\t0-1\trange)\n",
    "x_train\t/=\t255.0\n",
    "x_test\t/=\t255.0\n",
    " #\tConvert\tlabels\tto\tone-hot\tencoding\n",
    "y_train\t=\tto_categorical(y_train,\t10)\n",
    "y_test\t=\tto_categorical(y_test,\t10)\n",
    " #\tStep\t3:\tDefine\tthe\tCNN\tmodel\n",
    "cnn_model\t=\tSequential([\n",
    "Conv2D(32,\t(3,\t3),\tactivation='relu',\tinput_shape=(28,\t28,\t1)),\n",
    "MaxPooling2D((2,\t2)),\n",
    "Conv2D(64,\t(3,\t3),\tactivation='relu'),\n",
    "MaxPooling2D((2,\t2)),\n",
    "Flatten(),\n",
    "Dense(64,\tactivation='relu'),\n",
    "Dense(10,\tactivation='softmax')\t\t#\tOutput\tlayer\twith\t10\tclasses\t(digits\t0-9)\n",
    "])\n",
    " #\tStep\t4:\tCompile\tthe\tmodel\n",
    "cnn_model.compile(optimizer='adam',\tloss='categorical_crossentropy',\tmetrics=['accuracy'])\n",
    " #\tStep\t5:\tTrain\tthe\tmodel\n",
    "cnn_model.fit(x_train,\ty_train,\tepochs=5,\tbatch_size=64,\tvalidation_data=(x_test,\ty_test))\n",
    " #\tSave\tthe\ttrained\tmodel\t(optional,\tto\tload\tlater)\n",
    "cnn_model.save('cnn_mnist_model.h5')"
   ]
  },
  {
   "cell_type": "code",
   "execution_count": 45,
   "id": "d6c32c76-2386-4010-a694-4e6106f7cab3",
   "metadata": {},
   "outputs": [
    {
     "ename": "NameError",
     "evalue": "name 'predicted_label' is not defined",
     "output_type": "error",
     "traceback": [
      "\u001b[1;31m---------------------------------------------------------------------------\u001b[0m",
      "\u001b[1;31mNameError\u001b[0m                                 Traceback (most recent call last)",
      "Cell \u001b[1;32mIn[45], line 26\u001b[0m\n\u001b[0;32m     24\u001b[0m  \u001b[38;5;66;03m#\tStep\t8:\tDisplay\tthe\timage\tand\tthe\tpredicted\tlabel\u001b[39;00m\n\u001b[0;32m     25\u001b[0m plt\u001b[38;5;241m.\u001b[39mimshow(image_array\u001b[38;5;241m.\u001b[39mreshape(\u001b[38;5;241m28\u001b[39m,\t\u001b[38;5;241m28\u001b[39m),cmap\u001b[38;5;241m=\u001b[39m\u001b[38;5;124m'\u001b[39m\u001b[38;5;124mgray\u001b[39m\u001b[38;5;124m'\u001b[39m)\n\u001b[1;32m---> 26\u001b[0m plt\u001b[38;5;241m.\u001b[39mtitle(\u001b[38;5;124mf\u001b[39m\u001b[38;5;124m\"\u001b[39m\u001b[38;5;124mpredicted label:\u001b[39m\u001b[38;5;132;01m{\u001b[39;00mpredicted_label\u001b[38;5;132;01m}\u001b[39;00m\u001b[38;5;124m\"\u001b[39m)\n\u001b[0;32m     27\u001b[0m plt\u001b[38;5;241m.\u001b[39maxis(\u001b[38;5;124m'\u001b[39m\u001b[38;5;124moff\u001b[39m\u001b[38;5;124m'\u001b[39m)\t\t\u001b[38;5;66;03m#\tHide\tthe\taxes\u001b[39;00m\n\u001b[0;32m     28\u001b[0m plt\u001b[38;5;241m.\u001b[39mshow()\n",
      "\u001b[1;31mNameError\u001b[0m: name 'predicted_label' is not defined"
     ]
    },
    {
     "data": {
      "image/png": "[encoded data removed]",
      "text/plain": [
       "<Figure size 640x480 with 1 Axes>"
      ]
     },
     "metadata": {},
     "output_type": "display_data"
    }
   ],
   "source": [
    "import\tnumpy\tas\tnp\n",
    "from\tPIL\timport\tImage\n",
    "import\tmatplotlib.pyplot\tas\tplt\n",
    "def\tpredict_custom_image(image_path,cnn_model):\n",
    " \"\"\"\n",
    " Predicts\tthe\tdigit\tfor\ta\tcustom\timage\tprovided\tby\tthe\tuser.\n",
    " \"\"\"\n",
    " #\tStep\t1:\tLoad\tthe\tsaved\tPNG\timage\tand\tconvert\tto\tgrayscale\n",
    " image\t=\tImage.open(image_path).convert('L')\t\t#\tConvert\tto\tgrayscale\t(L\tmode)\n",
    " #\tStep\t2:\tResize\tthe\timage\tto\t28x28\tpixels\t(standard\tMNIST\tsize)\n",
    " image\t=\timage.resize((28,\t28))\n",
    " #\tStep\t3:\tConvert\tthe\timage\tto\ta\tnumpy\tarray\n",
    " image_array\t=\tnp.array(image)\n",
    " #\tStep\t4:\tInvert\tthe\tcolors\t(MNIST\timages\tare\twhite\ton\tblack,\tso\twe\tinvert\tit\tto\tblack\ton\twhite)\n",
    " image_array\t=\t255\t-\timage_array\n",
    " #\tStep\t5:\tNormalize\tthe\timage\t(scale\tpixel\tvalues\tto\t[0,\t1])\n",
    " image_array\t=\timage_array\t/\t255.0\n",
    " #\tStep\t7:\tPredict\tthe\tdigit\tusing\tthe\tCNN\tmodel\n",
    " predicted_probs\t=\tcnn_model.predict(image_array)\n",
    " #\tStep\t6:\tReshape\tthe\timage\tto\tfit\tthe\tinput\tshape\tof\tthe\tCNN\tmodel\t(28x28x1)\n",
    " image_array\t=\timage_array.reshape(1,\t28,\t28,\t1)\t\t#\tReshape\tto\t(1,\t28,\t28,\t1)\n",
    " #\tGet\tthe\tpredicted\tlabel\t(the\tdigit\twith\tthe\thighest\tprobability)\n",
    " predicted_label =\tnp.argmax(predicted_probs)\n",
    " #\tStep\t8:\tDisplay\tthe\timage\tand\tthe\tpredicted\tlabel\n",
    "plt.imshow(image_array.reshape(28,\t28),cmap='gray')\n",
    "plt.title(f\"predicted label:{predicted_label}\")\n",
    "plt.axis('off')\t\t#\tHide\tthe\taxes\n",
    "plt.show()\n",
    "return\tpredicted_label\n",
    " #\tExample\tUsage:\tUse\tthe\tsaved\timage\t(e.g.,\t'selected_image.png')\tand\tpredict\n",
    "predict_custom_image('selected_image.png',\tcnn_model)"
   ]
  },
  {
   "cell_type": "code",
   "execution_count": null,
   "id": "4cb32615-3ae6-4524-a2c1-ddc99820a0b3",
   "metadata": {},
   "outputs": [],
   "source": []
  }
 ],
 "metadata": {
  "kernelspec": {
   "display_name": "Python 3 (ipykernel)",
   "language": "python",
   "name": "python3"
  },
  "language_info": {
   "codemirror_mode": {
    "name": "ipython",
    "version": 3
   },
   "file_extension": ".py",
   "mimetype": "text/x-python",
   "name": "python",
   "nbconvert_exporter": "python",
   "pygments_lexer": "ipython3",
   "version": "3.12.7"
  }
 },
 "nbformat": 4,
 "nbformat_minor": 5
}
